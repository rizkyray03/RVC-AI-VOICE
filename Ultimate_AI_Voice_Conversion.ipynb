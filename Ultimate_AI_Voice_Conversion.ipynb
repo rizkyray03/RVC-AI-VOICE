{
  "cells": [
    {
      "cell_type": "markdown",
      "metadata": {
        "id": "view-in-github",
        "colab_type": "text"
      },
      "source": [
        "<a href=\"https://colab.research.google.com/github/rizkyray03/RVC-AI-VOICE/blob/main/Ultimate_AI_Voice_Conversion.ipynb\" target=\"_parent\"><img src=\"https://colab.research.google.com/assets/colab-badge.svg\" alt=\"Open In Colab\"/></a>"
      ]
    },
    {
      "cell_type": "code",
      "execution_count": null,
      "metadata": {
        "id": "jwu07JgqoFON",
        "cellView": "form"
      },
      "outputs": [],
      "source": [
        "#@title Online or Local\n",
        "\n",
        "OPTION = \"HuggingFace\" #@param [\"HuggingFace\", \"GoogleDrive\"]\n"
      ]
    },
    {
      "cell_type": "code",
      "source": [
        "#@title 1.Mount Drive\n",
        "\n",
        "from google.colab import drive\n",
        "drive.mount('/content/drive')"
      ],
      "metadata": {
        "cellView": "form",
        "id": "uurBt0MTnm65"
      },
      "execution_count": null,
      "outputs": []
    },
    {
      "cell_type": "code",
      "source": [
        "#@title 2.Install Dependencies\n",
        "!pip install yt_dlp\n",
        "!pip install ffmpeg\n",
        "!mkdir youtubeaudio\n",
        "%cd /content\n",
        "!apt-get -y install build-essential python3-dev ffmpeg\n",
        "!pip3 install --upgrade setuptools wheel\n",
        "!pip3 install --upgrade pip\n",
        "!pip3 install faiss-cpu==1.7.2 fairseq gradio==3.14.0 ffmpeg ffmpeg-python praat-parselmouth pyworld numpy==1.23.5 numba==0.56.4 librosa==0.9.2\n",
        "\n",
        "#@title 3.Clone RVC Github\n",
        "!git clone --depth=1 -b stable https://github.com/fumiama/Retrieval-based-Voice-Conversion-WebUI\n",
        "\n",
        "#@title 5.Install aria2\n",
        "!apt -y install -qq aria2\n",
        "\n",
        "#@title 6.Download Pretrained Model for Audio Splitting\n",
        "!aria2c --console-log-level=error -c -x 16 -s 16 -k 1M https://huggingface.co/lj1995/VoiceConversionWebUI/resolve/main/uvr5_weights/HP2-人声vocals+非人声instrumentals.pth -d /content/Retrieval-based-Voice-Conversion-WebUI/uvr5_weights -o HP2-人声vocals+非人声instrumentals.pth\n",
        "!aria2c --console-log-level=error -c -x 16 -s 16 -k 1M https://huggingface.co/lj1995/VoiceConversionWebUI/resolve/main/uvr5_weights/HP5-主旋律人声vocals+其他instrumentals.pth -d /content/Retrieval-based-Voice-Conversion-WebUI/uvr5_weights -o HP5-主旋律人声vocals+其他instrumentals.pth\n",
        "\n",
        "#@title 7.Download hubert_base\n",
        "!aria2c --console-log-level=error -c -x 16 -s 16 -k 1M https://huggingface.co/lj1995/VoiceConversionWebUI/resolve/main/hubert_base.pt -d /content/Retrieval-based-Voice-Conversion-WebUI -o hubert_base.pt"
      ],
      "metadata": {
        "cellView": "form",
        "id": "oYM8lhw1fe5n"
      },
      "execution_count": null,
      "outputs": []
    },
    {
      "cell_type": "code",
      "execution_count": null,
      "metadata": {
        "id": "doHo0Gzb5ePk",
        "cellView": "form"
      },
      "outputs": [],
      "source": [
        "#@title 3.Download Youtube Audio\n",
        "local = '/content/youtubeaudio/'\n",
        "name = 'cars-outside' #@param {type:\"string\"}\n",
        "mix = local + name\n",
        "\n",
        "from __future__ import unicode_literals\n",
        "import yt_dlp\n",
        "import ffmpeg\n",
        "import sys\n",
        "\n",
        "\n",
        "\n",
        "ydl_opts = {\n",
        "    'format': 'bestaudio/best',\n",
        "#    'outtmpl': 'output.%(ext)s',\n",
        "    'postprocessors': [{\n",
        "        'key': 'FFmpegExtractAudio',\n",
        "        'preferredcodec': 'mp3',\n",
        "    }],\n",
        "    \"outtmpl\": mix,  # this is where you can edit how you'd like the filenames to be formatted\n",
        "}\n",
        "def download_from_url(url):\n",
        "    ydl.download([url])\n",
        "    # stream = ffmpeg.input('output.m4a')\n",
        "    # stream = ffmpeg.output(stream, 'output.wav')\n",
        "\n",
        "\n",
        "with yt_dlp.YoutubeDL(ydl_opts) as ydl:\n",
        "      url = \"https://www.youtube.com/watch?v=xP5MCCnnSS4\" #@param {type:\"string\"}\n",
        "      download_from_url(url)\n",
        "\n",
        "\n",
        "\n"
      ]
    },
    {
      "cell_type": "code",
      "execution_count": null,
      "metadata": {
        "id": "KTUIsJldFm5m",
        "cellView": "form"
      },
      "outputs": [],
      "source": [
        "#@title 4.Choose Model\n",
        "REPOSITORY  = \"Harukichi\"\n",
        "def get_model(MODELNAME):\n",
        "    names = [\"cust1\",\n",
        "             \"ray\",\n",
        "             \"haru\"]\n",
        "    probe = [\"added_IVF345_Flat_nprobe_1.index\",\n",
        "             \"added_IVF771_Flat_nprobe_1.index\",\n",
        "             \"added_IVF90_Flat_nprobe_1.index\"]\n",
        "\n",
        "    if MODELNAME in names:\n",
        "        index = names.index(MODELNAME)\n",
        "        return probe[index]\n",
        "    else:\n",
        "        return None\n",
        "\n",
        "MODELNAME = \"ray\" #@param [\"cust1\", \"ray\" , \"haru\"]\n",
        "INDEX = get_model(MODELNAME)\n",
        "\n",
        "print(MODELNAME)\n",
        "print(INDEX)\n",
        "URL = f\"https://huggingface.co/{REPOSITORY}/{MODELNAME}/resolve/main/weights/{MODELNAME}.pth\"\n",
        "INDEXURL = f\"https://huggingface.co/{REPOSITORY}/{MODELNAME}/resolve/main/{MODELNAME}/{INDEX}\""
      ]
    },
    {
      "cell_type": "code",
      "source": [
        "#@title 5.Download model\n",
        "\n",
        "if OPTION == 'HuggingFace' :\n",
        "    !wget -N {URL} -P /content/Retrieval-based-Voice-Conversion-WebUI/weights\n",
        "    # !mkdir -p /content/Retrieval-based-Voice-Conversion-WebUI/logs/{MODELNAME}\n",
        "    !wget -N {INDEXURL} -P /content/{MODELNAME}\n",
        "    %cd /content/Retrieval-based-Voice-Conversion-WebUI\n",
        "    !mkdir -p pretrained uvr5_weights\n",
        "else :\n",
        "  #@title 4.2 Copy Model to RVC Directory\n",
        "  !cp -r /content/drive/MyDrive/RVC/weights/* /content/Retrieval-based-Voice-Conversion-WebUI/weights\n",
        "  !mkdir -p /content/Retrieval-based-Voice-Conversion-WebUI/logs/{MODELNAME}\n",
        "  !cp -r /content/drive/MyDrive/RVC/{MODELNAME}/* /content/Retrieval-based-Voice-Conversion-WebUI/logs/{MODELNAME}\n",
        "  %cd /content/Retrieval-based-Voice-Conversion-WebUI\n",
        "  !mkdir -p pretrained uvr5_weights\n",
        "\n",
        "\n",
        "\n",
        "\n"
      ],
      "metadata": {
        "id": "on34_9jJzAX1",
        "cellView": "form"
      },
      "execution_count": null,
      "outputs": []
    },
    {
      "cell_type": "code",
      "execution_count": null,
      "metadata": {
        "id": "7vh6vphDwO0b",
        "cellView": "form"
      },
      "outputs": [],
      "source": [
        "#@title 6.Run Web\n",
        "%cd /content/Retrieval-based-Voice-Conversion-WebUI\n",
        "# %load_ext tensorboard\n",
        "# %tensorboard --logdir /content/Retrieval-based-Voice-Conversion-WebUI/logs\n",
        "!python3 infer-web.py --colab --pycmd python3"
      ]
    }
  ],
  "metadata": {
    "accelerator": "GPU",
    "colab": {
      "private_outputs": true,
      "provenance": [],
      "gpuType": "T4",
      "include_colab_link": true
    },
    "gpuClass": "standard",
    "kernelspec": {
      "display_name": "Python 3",
      "name": "python3"
    },
    "language_info": {
      "name": "python"
    }
  },
  "nbformat": 4,
  "nbformat_minor": 0
}